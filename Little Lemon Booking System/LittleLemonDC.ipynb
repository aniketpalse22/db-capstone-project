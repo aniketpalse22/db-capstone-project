{
 "cells": [
  {
   "cell_type": "markdown",
   "id": "009bf446-0126-4075-b104-57997a6d506e",
   "metadata": {},
   "source": [
    "# Task 1 :- Connection"
   ]
  },
  {
   "cell_type": "code",
   "execution_count": 1,
   "id": "16839f34-2d7d-477a-bb0e-e9c09ed03e2f",
   "metadata": {},
   "outputs": [],
   "source": [
    "import mysql.connector as connector"
   ]
  },
  {
   "cell_type": "code",
   "execution_count": 2,
   "id": "053843af-9c65-4a20-8208-7f46d637b705",
   "metadata": {},
   "outputs": [
    {
     "name": "stdout",
     "output_type": "stream",
     "text": [
      "<mysql.connector.connection.MySQLConnection object at 0x10a09f620>\n"
     ]
    }
   ],
   "source": [
    "# Establish the connection\n",
    "connection = connector.connect(\n",
    "    host='localhost',\n",
    "    user='root',\n",
    "    passwd='aNIKEt@45',\n",
    "    database='LittleLemonDB',  \n",
    "    use_pure=True\n",
    ")\n",
    "\n",
    "# Print the connection object to verify the connection\n",
    "print(connection)"
   ]
  },
  {
   "cell_type": "code",
   "execution_count": 4,
   "id": "136f6210-2fba-4d81-a3a5-de53b59689a1",
   "metadata": {},
   "outputs": [],
   "source": [
    "cursor = connection.cursor()"
   ]
  },
  {
   "cell_type": "code",
   "execution_count": 3,
   "id": "14b16426-0997-4c14-812c-b49b00bf7b71",
   "metadata": {},
   "outputs": [],
   "source": [
    "cursor.execute(\"Use LittleLemonDB\")"
   ]
  },
  {
   "cell_type": "markdown",
   "id": "3e8f74b3-2ecf-47f9-93e1-b9ed85bf6ea1",
   "metadata": {},
   "source": [
    "## Task 2: Table Printing"
   ]
  },
  {
   "cell_type": "code",
   "execution_count": 7,
   "id": "89793be1-e4ae-4ffa-8388-f337eb17c7de",
   "metadata": {},
   "outputs": [
    {
     "name": "stdout",
     "output_type": "stream",
     "text": [
      "('Booking',)\n",
      "('CustomerDetails',)\n",
      "('Menu',)\n",
      "('MenuItems',)\n",
      "('OrderDeliveryStatus',)\n",
      "('Orders',)\n",
      "('ordersview',)\n",
      "('Staff',)\n"
     ]
    }
   ],
   "source": [
    "show_tables_query = \"SHOW tables\" \n",
    "cursor.execute(show_tables_query)\n",
    "for results in cursor:\n",
    "    print(results)"
   ]
  },
  {
   "cell_type": "markdown",
   "id": "2e892ac9-4df8-46ff-9589-15a7eb47bca4",
   "metadata": {},
   "source": [
    "## Task 3 : Join "
   ]
  },
  {
   "cell_type": "code",
   "execution_count": 10,
   "id": "1e8369d9-c1f1-48e1-8ddc-31447d81ae14",
   "metadata": {},
   "outputs": [],
   "source": [
    "# Define the query\n",
    "query = \"\"\"SELECT a.CustomerName, a.ContactNumber, b.TotalCost\n",
    "            FROM CustomerDetails as a\n",
    "            JOIN Orders as b ON a.CustomerID = b.CustomerID\n",
    "            WHERE b.TotalCost > 60;\"\"\"\n",
    "\n",
    "# Execute the query\n",
    "cursor.execute(query)\n",
    "\n",
    "# Fetch all results\n",
    "results = cursor.fetchall()\n",
    "\n",
    "# Print the results\n",
    "for row in results:\n",
    "    print(f\"Full Name: {row[0]}, Contact: {row[1]}, Total Cost: {row[2]}\")\n"
   ]
  },
  {
   "cell_type": "code",
   "execution_count": null,
   "id": "a116147a-ca61-4360-bab9-b547946e5b40",
   "metadata": {},
   "outputs": [],
   "source": []
  },
  {
   "cell_type": "code",
   "execution_count": null,
   "id": "1407cc42-6968-412d-be90-faae5cc601b9",
   "metadata": {},
   "outputs": [],
   "source": []
  }
 ],
 "metadata": {
  "kernelspec": {
   "display_name": "Python 3 (ipykernel)",
   "language": "python",
   "name": "python3"
  },
  "language_info": {
   "codemirror_mode": {
    "name": "ipython",
    "version": 3
   },
   "file_extension": ".py",
   "mimetype": "text/x-python",
   "name": "python",
   "nbconvert_exporter": "python",
   "pygments_lexer": "ipython3",
   "version": "3.12.5"
  }
 },
 "nbformat": 4,
 "nbformat_minor": 5
}
